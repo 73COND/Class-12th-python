{
 "cells": [
  {
   "cell_type": "code",
   "execution_count": 17,
   "metadata": {},
   "outputs": [],
   "source": [
    "import pickle\n",
    "import os"
   ]
  },
  {
   "cell_type": "markdown",
   "metadata": {},
   "source": [
    "Modify Current Status"
   ]
  },
  {
   "cell_type": "code",
   "execution_count": 29,
   "metadata": {},
   "outputs": [],
   "source": [
    "def modify_current_status():\n",
    "    f1=open(\"criminaldb.dat\",\"rb\")\n",
    "    f2=open(\"temp.dat\",\"wb\")\n",
    "    cid=int(input(\"Enter Criminal ID to Search: \"))\n",
    "    ds=input(\"Enter Current Status changed To: \")\n",
    "    flag=0\n",
    "    try:\n",
    "        while True:\n",
    "            d=pickle.load(f1)\n",
    "            if cid in d:\n",
    "                d[cid][10]=ds \n",
    "                flag=1\n",
    "                pickle.dump(d,f2)\n",
    "            else:\n",
    "                    pickle.dump(d,f2)\n",
    "            print(d)\n",
    "    except EOFError:\n",
    "        if flag==0: \n",
    "            print(\"Sorry Criminal ID whose current status had to be changed \\\n",
    "        was not there\")\n",
    "    finally:\n",
    "        f1.close()\n",
    "        f2.close()\n",
    "    os.remove(\"criminaldb.dat\")\n",
    "    os.rename(\"temp.dat\",\"criminaldb.dat\")"
   ]
  },
  {
   "cell_type": "code",
   "execution_count": 30,
   "metadata": {},
   "outputs": [
    {
     "name": "stdout",
     "output_type": "stream",
     "text": [
      "Enter Criminal ID to Search: 1004\n",
      "Enter Current Status changed To: 22\n",
      "{1001: ['Andy Dufresne', '32', 'male', 'Blue', '3/30/1915', '8/17/1947', 'Homicide', 'Victoria Mansion, Portland', 'Life Sentence', '5/21/1966', 'Not Known']}\n",
      "{1002: ['Rick Sanchez', '70', 'male', 'Black', '9/12/1945', '3/24/2015', 'Murder', 'Space Needle, Seattle', 'Life Sentence', '8/19/2017', 'hello']}\n",
      "{1003: ['Meredith Grey', '23', 'female', 'Green', '4/5/1904', '4/19/1927', 'Homicide', '', 'Life Sentence', '4/18/1967', 'Dead']}\n",
      "Sorry Criminal ID whose current status had to be changed         was not there\n"
     ]
    }
   ],
   "source": [
    "modify_current_status()"
   ]
  }
 ],
 "metadata": {
  "kernelspec": {
   "display_name": "Python 3",
   "language": "python",
   "name": "python3"
  },
  "language_info": {
   "codemirror_mode": {
    "name": "ipython",
    "version": 3
   },
   "file_extension": ".py",
   "mimetype": "text/x-python",
   "name": "python",
   "nbconvert_exporter": "python",
   "pygments_lexer": "ipython3",
   "version": "3.8.3"
  }
 },
 "nbformat": 4,
 "nbformat_minor": 4
}
