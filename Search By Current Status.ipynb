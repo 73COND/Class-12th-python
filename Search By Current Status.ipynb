{
 "cells": [
  {
   "cell_type": "markdown",
   "metadata": {},
   "source": [
    "Search By Current Status"
   ]
  },
  {
   "cell_type": "code",
   "execution_count": 2,
   "metadata": {},
   "outputs": [],
   "source": [
    "def curstat_search_rec():\n",
    "    if not os.path.isfile(\"criminaldb.dat\"):   \n",
    "        print(\"  File Not Found!! \")\n",
    "    else:\n",
    "        f=open(\"criminaldb.dat\",\"rb\")\n",
    "        crs=input(\"Enter Current Status: \")\n",
    "        crs=crs.lower()\n",
    "        flag=0\n",
    "        try:\n",
    "            while True:\n",
    "                d=pickle.load(f)\n",
    "                for i in d:\n",
    "                    if d[i][10].lower()==crs:\n",
    "                        flag=1\n",
    "                        print(\"Criminal ID : \",i)\n",
    "                        print(\"Name : \",(d[i][0]))\n",
    "                        print(\"Age : \",(d[i][1]))\n",
    "                        print(\"Gender : \",(d[i][2]))\n",
    "                        print(\"Eye Colour : \",(d[i][3]))\n",
    "                        print(\"Date Of Birth : \",(d[i][4]))\n",
    "                        print(\"Date Of Admission : \",(d[i][5]))\n",
    "                        print(\"Offence Type : \",(d[i][6]))\n",
    "                        print(\"Location Of Crime : \",(d[i][7]))\n",
    "                        print(\"Term : \",(d[i][8]))\n",
    "                        print(\"Release Date : \",(d[i][9]))\n",
    "                        print(\"Current Status : \",(d[i][10]))\n",
    "                \n",
    "        except EOFError:\n",
    "            if flag==0:\n",
    "                print(\"Current Status Not Found\")\n",
    "        finally:f.close()"
   ]
  },
  {
   "cell_type": "code",
   "execution_count": null,
   "metadata": {},
   "outputs": [],
   "source": [
    "curstat_search_recr()"
   ]
  }
 ],
 "metadata": {
  "kernelspec": {
   "display_name": "Python 3",
   "language": "python",
   "name": "python3"
  },
  "language_info": {
   "codemirror_mode": {
    "name": "ipython",
    "version": 3
   },
   "file_extension": ".py",
   "mimetype": "text/x-python",
   "name": "python",
   "nbconvert_exporter": "python",
   "pygments_lexer": "ipython3",
   "version": "3.8.3"
  }
 },
 "nbformat": 4,
 "nbformat_minor": 4
}
